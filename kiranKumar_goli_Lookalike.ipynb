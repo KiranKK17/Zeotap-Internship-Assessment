{
 "cells": [
  {
   "cell_type": "code",
   "execution_count": 4,
   "metadata": {},
   "outputs": [],
   "source": [
    "import pandas as pd\n",
    "\n",
    "# Load datasets\n",
    "customers = pd.read_csv(r'C:\\Users\\kranthi kumar goli\\Downloads\\Customers.csv')\n",
    "products = pd.read_csv(r'C:\\Users\\kranthi kumar goli\\Downloads\\Products.csv')\n",
    "transactions = pd.read_csv(r'C:\\Users\\kranthi kumar goli\\Downloads\\Transactions.csv')\n",
    "\n",
    "#merging\n",
    "transactions = transactions.merge(products, on=\"ProductID\", how=\"left\")\n",
    "full_data = transactions.merge(customers, on=\"CustomerID\", how=\"left\")"
   ]
  },
  {
   "cell_type": "code",
   "execution_count": 5,
   "metadata": {},
   "outputs": [],
   "source": [
    "# Create customer-level features\n",
    "customer_features = (\n",
    "    full_data.groupby(\"CustomerID\")\n",
    "    .agg(\n",
    "        total_spending=(\"TotalValue\", \"sum\"),\n",
    "        avg_spending=(\"TotalValue\", \"mean\"),\n",
    "        num_transactions=(\"TransactionID\", \"count\"),\n",
    "        favorite_category=(\"Category\", lambda x: x.mode()[0] if not x.mode().empty else None),\n",
    "    )\n",
    "    .reset_index()\n",
    ")\n"
   ]
  },
  {
   "cell_type": "code",
   "execution_count": 6,
   "metadata": {},
   "outputs": [],
   "source": [
    "from sklearn.preprocessing import StandardScaler\n",
    "\n",
    "# Standardize numerical features\n",
    "scaler = StandardScaler()\n",
    "numerical_features = [\"total_spending\", \"avg_spending\", \"num_transactions\"]\n",
    "customer_features[numerical_features] = scaler.fit_transform(customer_features[numerical_features])\n"
   ]
  },
  {
   "cell_type": "code",
   "execution_count": 7,
   "metadata": {},
   "outputs": [],
   "source": [
    "from sklearn.metrics.pairwise import cosine_similarity\n",
    "\n",
    "# Compute similarity matrix\n",
    "similarity_matrix = cosine_similarity(customer_features[numerical_features])\n",
    "\n",
    "# Create a DataFrame for the similarity matrix\n",
    "similarity_df = pd.DataFrame(similarity_matrix, index=customer_features[\"CustomerID\"], columns=customer_features[\"CustomerID\"])\n"
   ]
  },
  {
   "cell_type": "code",
   "execution_count": 8,
   "metadata": {},
   "outputs": [],
   "source": [
    "lookalikes = {}\n",
    "\n",
    "for customer_id in customer_features[\"CustomerID\"]:\n",
    "    # Get similarity scores for this customer\n",
    "    similar_customers = similarity_df[customer_id].sort_values(ascending=False).iloc[1:4]\n",
    "    \n",
    "    # Store results\n",
    "    lookalikes[customer_id] = list(zip(similar_customers.index, similar_customers.values))\n"
   ]
  },
  {
   "cell_type": "code",
   "execution_count": 9,
   "metadata": {},
   "outputs": [],
   "source": [
    "# Prepare the output DataFrame\n",
    "lookalike_output = []\n",
    "\n",
    "for customer_id, similar in lookalikes.items():\n",
    "    if customer_id in [f\"C{str(i).zfill(4)}\" for i in range(1, 21)]:\n",
    "        for sim_id, score in similar:\n",
    "            lookalike_output.append({\"CustomerID\": customer_id, \"SimilarCustomerID\": sim_id, \"SimilarityScore\": score})\n",
    "\n",
    "lookalike_df = pd.DataFrame(lookalike_output)\n",
    "\n",
    "# Save to CSV\n",
    "lookalike_df.to_csv(\"kiranKumar_goli_Lookalike.csv\", index=False)\n"
   ]
  }
 ],
 "metadata": {
  "kernelspec": {
   "display_name": "Python 3",
   "language": "python",
   "name": "python3"
  },
  "language_info": {
   "codemirror_mode": {
    "name": "ipython",
    "version": 3
   },
   "file_extension": ".py",
   "mimetype": "text/x-python",
   "name": "python",
   "nbconvert_exporter": "python",
   "pygments_lexer": "ipython3",
   "version": "3.10.7"
  }
 },
 "nbformat": 4,
 "nbformat_minor": 2
}
